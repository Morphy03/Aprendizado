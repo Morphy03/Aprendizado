{
 "cells": [
  {
   "cell_type": "code",
   "execution_count": 6,
   "id": "72deb0fb",
   "metadata": {},
   "outputs": [],
   "source": [
    "comida = 'xis'"
   ]
  },
  {
   "cell_type": "code",
   "execution_count": 3,
   "id": "8736b413",
   "metadata": {},
   "outputs": [
    {
     "name": "stdout",
     "output_type": "stream",
     "text": [
      "tem mt calorias\n"
     ]
    }
   ],
   "source": [
    "if comida == 'pizza': \n",
    "    print('tem mt calorias')"
   ]
  },
  {
   "cell_type": "code",
   "execution_count": 11,
   "id": "35d7ca53",
   "metadata": {},
   "outputs": [
    {
     "name": "stdout",
     "output_type": "stream",
     "text": [
      "N sei as calorias\n"
     ]
    }
   ],
   "source": [
    "if comida == 'pizza': \n",
    "    print('tem mt calorias')\n",
    "else: \n",
    "    print('N sei as calorias')"
   ]
  },
  {
   "cell_type": "code",
   "execution_count": 13,
   "id": "70ee90ff",
   "metadata": {},
   "outputs": [
    {
     "name": "stdout",
     "output_type": "stream",
     "text": [
      "tem calorias\n"
     ]
    }
   ],
   "source": [
    "comida = 'churas'\n",
    "if comida == 'pizza': \n",
    "    print('tem mt calorias')\n",
    "elif comida == 'burgao':\n",
    "    print('tem poucas calorias')\n",
    "elif comida == 'churas':\n",
    "    print('tem calorias')\n",
    "elif comida == 'melao':\n",
    "    print('tem poucas calorias')\n",
    "else:\n",
    "    print('N conheço as calorias')\n",
    "  "
   ]
  },
  {
   "cell_type": "code",
   "execution_count": 14,
   "id": "a6a4b07f",
   "metadata": {},
   "outputs": [
    {
     "name": "stdout",
     "output_type": "stream",
     "text": [
      "é pizza\n"
     ]
    }
   ],
   "source": [
    "comida = 'churas'\n",
    "#!= deswigual\n",
    "if comida != 'churas':\n",
    "    print('N é churas')\n",
    "else:\n",
    "    print('é pizza')"
   ]
  },
  {
   "cell_type": "code",
   "execution_count": null,
   "id": "767f84f8",
   "metadata": {},
   "outputs": [],
   "source": []
  }
 ],
 "metadata": {
  "kernelspec": {
   "display_name": "Python 3 (ipykernel)",
   "language": "python",
   "name": "python3"
  },
  "language_info": {
   "codemirror_mode": {
    "name": "ipython",
    "version": 3
   },
   "file_extension": ".py",
   "mimetype": "text/x-python",
   "name": "python",
   "nbconvert_exporter": "python",
   "pygments_lexer": "ipython3",
   "version": "3.9.12"
  }
 },
 "nbformat": 4,
 "nbformat_minor": 5
}
