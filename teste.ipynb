{
 "cells": [
  {
   "cell_type": "code",
   "execution_count": 6,
   "id": "a9df09a0",
   "metadata": {
    "scrolled": true
   },
   "outputs": [
    {
     "name": "stdout",
     "output_type": "stream",
     "text": [
      "Qual seu ano de nascimento?2005\n",
      "Não Adulto\n"
     ]
    }
   ],
   "source": [
    "ano = int(input('Qual seu ano de nascimento?'))\n",
    "idade = 2022 - ano\n",
    "if idade >= 18:\n",
    "    print('Adulto')\n",
    "else:\n",
    "    print('Não Adulto')"
   ]
  },
  {
   "cell_type": "code",
   "execution_count": null,
   "id": "0c0f6392",
   "metadata": {},
   "outputs": [],
   "source": []
  }
 ],
 "metadata": {
  "kernelspec": {
   "display_name": "Python 3 (ipykernel)",
   "language": "python",
   "name": "python3"
  },
  "language_info": {
   "codemirror_mode": {
    "name": "ipython",
    "version": 3
   },
   "file_extension": ".py",
   "mimetype": "text/x-python",
   "name": "python",
   "nbconvert_exporter": "python",
   "pygments_lexer": "ipython3",
   "version": "3.9.12"
  }
 },
 "nbformat": 4,
 "nbformat_minor": 5
}
