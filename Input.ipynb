{
 "cells": [
  {
   "cell_type": "code",
   "execution_count": 1,
   "id": "b56c065a",
   "metadata": {},
   "outputs": [
    {
     "name": "stdout",
     "output_type": "stream",
     "text": [
      "Qual seu nome?Morph\n"
     ]
    }
   ],
   "source": [
    "\n",
    "nome = input('Qual seu nome?')\n",
    "print(nome)\n",
    "idade = input('Qual sua idade?')\n",
    "print(idade)\n",
    "print(idade+2)\n",
    "type(idade)\n",
    "a = 'oi'\n",
    "print(a*50)\n",
    "idade = int(input('Qual a sua idade?'))\n",
    "type(idade)\n",
    "print(idade*2)"
   ]
  }
 ],
 "metadata": {
  "kernelspec": {
   "display_name": "Python 3.10.8 64-bit (microsoft store)",
   "language": "python",
   "name": "python3"
  },
  "language_info": {
   "codemirror_mode": {
    "name": "ipython",
    "version": 3
   },
   "file_extension": ".py",
   "mimetype": "text/x-python",
   "name": "python",
   "nbconvert_exporter": "python",
   "pygments_lexer": "ipython3",
   "version": "3.10.8"
  },
  "vscode": {
   "interpreter": {
    "hash": "26902a70943114a0f8eccca213092877189d196717d55fb25013474c0e9531e3"
   }
  }
 },
 "nbformat": 4,
 "nbformat_minor": 5
}
