{
 "cells": [
  {
   "cell_type": "code",
   "execution_count": 20,
   "id": "27a6f923",
   "metadata": {
    "scrolled": false
   },
   "outputs": [
    {
     "name": "stdout",
     "output_type": "stream",
     "text": [
      "Bom dia\n",
      "Boa tarde\n",
      "Boa noite\n",
      "Bom dia\n",
      "Boa tarde\n",
      "Boa noite\n"
     ]
    }
   ],
   "source": [
    "for i in range(2):\n",
    "    print('Bom dia')\n",
    "    print('Boa tarde')\n",
    "    print('Boa noite')"
   ]
  },
  {
   "cell_type": "code",
   "execution_count": 29,
   "id": "910af761",
   "metadata": {},
   "outputs": [
    {
     "name": "stdout",
     "output_type": "stream",
     "text": [
      "frase\n",
      "frase\n",
      "frase\n",
      "frase\n",
      "frase\n",
      "frase\n",
      "frase\n",
      "frase\n",
      "frase\n",
      "frase\n"
     ]
    }
   ],
   "source": [
    "a = 0\n",
    "b = 10\n",
    "for i in range(b):\n",
    "    print('frase')"
   ]
  },
  {
   "cell_type": "code",
   "execution_count": 30,
   "id": "1b24843d",
   "metadata": {},
   "outputs": [
    {
     "name": "stdout",
     "output_type": "stream",
     "text": [
      "m\n",
      "a\n",
      "t\n",
      "h\n"
     ]
    }
   ],
   "source": [
    "palavra = 'math'\n",
    "for i in palavra:\n",
    "    print(i)"
   ]
  },
  {
   "cell_type": "code",
   "execution_count": null,
   "id": "6d3d38dc",
   "metadata": {},
   "outputs": [],
   "source": []
  }
 ],
 "metadata": {
  "kernelspec": {
   "display_name": "Python 3 (ipykernel)",
   "language": "python",
   "name": "python3"
  },
  "language_info": {
   "codemirror_mode": {
    "name": "ipython",
    "version": 3
   },
   "file_extension": ".py",
   "mimetype": "text/x-python",
   "name": "python",
   "nbconvert_exporter": "python",
   "pygments_lexer": "ipython3",
   "version": "3.9.12"
  }
 },
 "nbformat": 4,
 "nbformat_minor": 5
}
